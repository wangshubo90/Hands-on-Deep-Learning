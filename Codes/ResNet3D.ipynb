{
 "cells": [
  {
   "cell_type": "code",
   "execution_count": 3,
   "metadata": {},
   "outputs": [],
   "source": [
    "import tensorflow as tf\n",
    "import os\n",
    "#import pandas\n",
    "from tensorflow import keras\n",
    "from functools import partial\n",
    "\n",
    "import SimpleITK for sitk # to read nii files\n",
    "from dltk.io.preprocessing import whitening # for data normalization"
   ]
  },
  {
   "cell_type": "code",
   "execution_count": 4,
   "metadata": {},
   "outputs": [],
   "source": [
    "DefaultConv3D = partial(keras.layers.Conv3D, kernel_size=3, strides=(1,)*3,\n",
    "        padding=\"SAME\", use_bias=False)"
   ]
  },
  {
   "cell_type": "code",
   "execution_count": null,
   "metadata": {},
   "outputs": [],
   "source": [
    "class ResidualUnit(keras.layers.Layer):\n",
    "    # separate construction and execution\n",
    "    # be aware of the strides' shape\n",
    "    def __init__(self, filters, strides=(1,)*3, activation=\"relu\", **kwargs):\n",
    "        super().__init__(**kwargs)\n",
    "        self.activation = keras.activations.get(activation)\n",
    "        \n",
    "        # a list a layers that can be iterated\n",
    "        self.main_layers = [\n",
    "                keras.layers.BatchNormalization(),\n",
    "                self.activation,\n",
    "                DefaultConv3D(filters, strides=strides),\n",
    "                keras.layers.BatchNormalization(),\n",
    "                self.activation,\n",
    "                DefaultConv3D(filters, strides=(1,)*3),\n",
    "                ]\n",
    "            \n",
    "    def call(self, inputs):\n",
    "        x = inputs\n",
    "        orig_x = inputs\n",
    "        orig_x = DefaultConv3D(filters,kernel_size=1, strides=strides)\n",
    "        \n",
    "        for layer in self.main_layers:\n",
    "            x = layer(x)\n",
    "            \n",
    "        return orig_x + x"
   ]
  },
  {
   "cell_type": "code",
   "execution_count": null,
   "metadata": {},
   "outputs": [],
   "source": [
    "filters = (16, 32, 64, 128)\n",
    "strides = (1, 2, 2, 2)\n",
    "\n",
    "model = keras.models.Sequential()\n",
    "model.add(DefaultConv3D(filters[0], kernel_size=3, strides=(1,)*3,\n",
    "        input_shape=[96, 96, 48, 1]))\n",
    "model.add(keras.layers.MaxPool3D(pool_size=(3,)*3, strides=(2,)*3, padding=\"SAME\"))\n",
    "\n",
    "for filter, stride in zip(filters, strides):\n",
    "    model.add(ResidualUnit(filters, strides=(strides,)*3))\n",
    "\n",
    "model.add(keras.layers.BatchNormalization())\n",
    "model.add(keras.layers.Activation(\"relu\"))\n",
    "model.add(keras.layers.GlobalAvgPool3D())\n",
    "\n",
    "model.add(keras.layers.Flatten())\n",
    "model.add(keras.layers.Dense(2, activation=\"softmax\"))\n",
    "\n",
    "model.compile(loss=\"sparse_categorical_crossentropy\",\n",
    "        optimizer=\"sgd\",\n",
    "        metrics=[\"accuracy\"])"
   ]
  },
  {
   "cell_type": "code",
   "execution_count": 6,
   "metadata": {},
   "outputs": [],
   "source": [
    "mini_batch_size = 8"
   ]
  },
  {
   "cell_type": "code",
   "execution_count": 28,
   "metadata": {},
   "outputs": [],
   "source": []
  },
  {
   "cell_type": "code",
   "execution_count": null,
   "metadata": {},
   "outputs": [],
   "source": [
    "file_references = pd.read_csv('').values\n",
    "\n",
    "\n",
    "for f in file_references:\n",
    "    subject_id = f[0]\n",
    "\n",
    "    data_path = '../../../data/IXI_HH/2mm'\n",
    "\n",
    "    # Read the image nii with sitk\n",
    "    t1_fn = os.path.join(data_path, '{}/T1_2mm.nii.gz'.format(subject_id))\n",
    "    t1 = sitk.GetArrayFromImage(sitk.ReadImage(str(t1_fn)))\n",
    "\n",
    "    # Normalise volume image\n",
    "    t1 = whitening(t1)\n",
    "\n",
    "    images = np.expand_dims(t1, axis=-1).astype(np.float32)"
   ]
  },
  {
   "cell_type": "code",
   "execution_count": null,
   "metadata": {},
   "outputs": [],
   "source": [
    "model.fit(train_set, steps_per_epoch=len(X_train) // batch_size, epochs=10,\n",
    "        validation_data=valid_set,\n",
    "        validation_steps=len(X_valid) // batch_size)"
   ]
  }
 ],
 "metadata": {
  "kernelspec": {
   "display_name": "Python 3",
   "language": "python",
   "name": "python3"
  },
  "language_info": {
   "codemirror_mode": {
    "name": "ipython",
    "version": 3
   },
   "file_extension": ".py",
   "mimetype": "text/x-python",
   "name": "python",
   "nbconvert_exporter": "python",
   "pygments_lexer": "ipython3",
   "version": "3.7.2"
  }
 },
 "nbformat": 4,
 "nbformat_minor": 4
}
